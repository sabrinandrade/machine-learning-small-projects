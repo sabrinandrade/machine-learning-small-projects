{
 "cells": [
  {
   "cell_type": "code",
   "execution_count": 20,
   "metadata": {
    "collapsed": true
   },
   "outputs": [],
   "source": [
    "from sklearn import datasets\n",
    "from sklearn import metrics\n",
    "\n",
    "from sklearn.tree import DecisionTreeClassifier\n",
    "from sklearn import svm\n",
    "from sklearn.neural_network import MLPClassifier\n",
    "\n",
    "from sklearn.model_selection import train_test_split"
   ]
  },
  {
   "cell_type": "code",
   "execution_count": 54,
   "metadata": {
    "collapsed": true
   },
   "outputs": [],
   "source": [
    "dataset = datasets.load_iris()\n",
    "dataset_input = dataset.data\n",
    "dataset_output = dataset.target"
   ]
  },
  {
   "cell_type": "code",
   "execution_count": 64,
   "metadata": {
    "collapsed": false
   },
   "outputs": [],
   "source": [
    "input_train, input_test, output_train, output_test = train_test_split(dataset_input, dataset_output, test_size=0.34, random_state=42)"
   ]
  },
  {
   "cell_type": "code",
   "execution_count": 81,
   "metadata": {
    "collapsed": false
   },
   "outputs": [
    {
     "data": {
      "text/plain": [
       "DecisionTreeClassifier(class_weight=None, criterion='gini', max_depth=None,\n",
       "            max_features=None, max_leaf_nodes=None,\n",
       "            min_impurity_decrease=0.0, min_impurity_split=None,\n",
       "            min_samples_leaf=1, min_samples_split=2,\n",
       "            min_weight_fraction_leaf=0.0, presort=False, random_state=42,\n",
       "            splitter='best')"
      ]
     },
     "execution_count": 81,
     "metadata": {},
     "output_type": "execute_result"
    }
   ],
   "source": [
    "# MODELO 1 - ÁRVORE DE DECISÃO\n",
    "tree_model = DecisionTreeClassifier(random_state=42)\n",
    "tree_model.fit(input_train, output_train)"
   ]
  },
  {
   "cell_type": "code",
   "execution_count": 89,
   "metadata": {
    "collapsed": false
   },
   "outputs": [
    {
     "data": {
      "text/plain": [
       "0.98076923076923073"
      ]
     },
     "execution_count": 89,
     "metadata": {},
     "output_type": "execute_result"
    }
   ],
   "source": [
    "tree_predicted = tree_model.predict(input_test)\n",
    "tree_model.score(input_test, output_test)"
   ]
  },
  {
   "cell_type": "code",
   "execution_count": 84,
   "metadata": {
    "collapsed": false
   },
   "outputs": [
    {
     "data": {
      "text/plain": [
       "LinearSVC(C=1.0, class_weight=None, dual=True, fit_intercept=True,\n",
       "     intercept_scaling=1, loss='squared_hinge', max_iter=1000,\n",
       "     multi_class='ovr', penalty='l2', random_state=42, tol=0.0001,\n",
       "     verbose=0)"
      ]
     },
     "execution_count": 84,
     "metadata": {},
     "output_type": "execute_result"
    }
   ],
   "source": [
    "# MODELO 2 - SVM\n",
    "svm_model = svm.LinearSVC(C=1.0, random_state=42)\n",
    "svm_model.fit(input_train, output_train)"
   ]
  },
  {
   "cell_type": "code",
   "execution_count": 91,
   "metadata": {
    "collapsed": false
   },
   "outputs": [
    {
     "data": {
      "text/plain": [
       "0.98076923076923073"
      ]
     },
     "execution_count": 91,
     "metadata": {},
     "output_type": "execute_result"
    }
   ],
   "source": [
    "svm_predicted = svm_model.predict(input_test)\n",
    "svm_model.score(input_test, output_test)"
   ]
  },
  {
   "cell_type": "code",
   "execution_count": 86,
   "metadata": {
    "collapsed": false
   },
   "outputs": [
    {
     "data": {
      "text/plain": [
       "MLPClassifier(activation='logistic', alpha=0.8, batch_size='auto', beta_1=0.9,\n",
       "       beta_2=0.999, early_stopping=False, epsilon=1e-08,\n",
       "       hidden_layer_sizes=(10,), learning_rate='constant',\n",
       "       learning_rate_init=0.001, max_iter=20, momentum=0.9,\n",
       "       nesterovs_momentum=True, power_t=0.5, random_state=42, shuffle=True,\n",
       "       solver='lbfgs', tol=0.0001, validation_fraction=0.1, verbose=False,\n",
       "       warm_start=False)"
      ]
     },
     "execution_count": 86,
     "metadata": {},
     "output_type": "execute_result"
    }
   ],
   "source": [
    "# MODELO 3 - MLP\n",
    "mlp_model = MLPClassifier(hidden_layer_sizes=(10, ), activation=\"logistic\", solver=\"lbfgs\", alpha=0.8, max_iter=20, random_state=42)\n",
    "mlp_model.fit(input_train, output_train)"
   ]
  },
  {
   "cell_type": "code",
   "execution_count": 92,
   "metadata": {
    "collapsed": false
   },
   "outputs": [
    {
     "data": {
      "text/plain": [
       "0.98076923076923073"
      ]
     },
     "execution_count": 92,
     "metadata": {},
     "output_type": "execute_result"
    }
   ],
   "source": [
    "mlp_predicted = mlp_model.predict(input_test)\n",
    "mlp_model.score(input_test, output_test)"
   ]
  },
  {
   "cell_type": "code",
   "execution_count": 88,
   "metadata": {
    "collapsed": false
   },
   "outputs": [
    {
     "name": "stdout",
     "output_type": "stream",
     "text": [
      "ARVORE DE DECISAO\n",
      "             precision    recall  f1-score   support\n",
      "\n",
      "          0       1.00      1.00      1.00        19\n",
      "          1       0.94      1.00      0.97        16\n",
      "          2       1.00      0.94      0.97        17\n",
      "\n",
      "avg / total       0.98      0.98      0.98        52\n",
      "\n",
      "[[19  0  0]\n",
      " [ 0 16  0]\n",
      " [ 0  1 16]]\n",
      "SUPPORT VECTOR MACHINE\n",
      "             precision    recall  f1-score   support\n",
      "\n",
      "          0       1.00      1.00      1.00        19\n",
      "          1       0.94      1.00      0.97        16\n",
      "          2       1.00      0.94      0.97        17\n",
      "\n",
      "avg / total       0.98      0.98      0.98        52\n",
      "\n",
      "[[19  0  0]\n",
      " [ 0 16  0]\n",
      " [ 0  1 16]]\n",
      "MULTI-LAYER PERCEPTRON\n",
      "             precision    recall  f1-score   support\n",
      "\n",
      "          0       1.00      1.00      1.00        19\n",
      "          1       1.00      0.94      0.97        16\n",
      "          2       0.94      1.00      0.97        17\n",
      "\n",
      "avg / total       0.98      0.98      0.98        52\n",
      "\n",
      "[[19  0  0]\n",
      " [ 0 15  1]\n",
      " [ 0  0 17]]\n"
     ]
    }
   ],
   "source": [
    "# Arvore de Decisao\n",
    "print(\"ARVORE DE DECISAO\")\n",
    "print(metrics.classification_report(output_test, tree_predicted))\n",
    "print(metrics.confusion_matrix(output_test, tree_predicted))\n",
    "\n",
    "# SVM\n",
    "print(\"SUPPORT VECTOR MACHINE\")\n",
    "print(metrics.classification_report(output_test, svm_predicted))\n",
    "print(metrics.confusion_matrix(output_test, svm_predicted))\n",
    "\n",
    "# MLP\n",
    "print(\"MULTI-LAYER PERCEPTRON\")\n",
    "print(metrics.classification_report(output_test, mlp_predicted))\n",
    "print(metrics.confusion_matrix(output_test, mlp_predicted))"
   ]
  },
  {
   "cell_type": "code",
   "execution_count": null,
   "metadata": {
    "collapsed": true
   },
   "outputs": [],
   "source": []
  }
 ],
 "metadata": {
  "kernelspec": {
   "display_name": "Python 3",
   "language": "python",
   "name": "python3"
  },
  "language_info": {
   "codemirror_mode": {
    "name": "ipython",
    "version": 3
   },
   "file_extension": ".py",
   "mimetype": "text/x-python",
   "name": "python",
   "nbconvert_exporter": "python",
   "pygments_lexer": "ipython3",
   "version": "3.6.0"
  }
 },
 "nbformat": 4,
 "nbformat_minor": 2
}
